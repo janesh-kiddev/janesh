{
  "nbformat": 4,
  "nbformat_minor": 0,
  "metadata": {
    "colab": {
      "provenance": [],
      "authorship_tag": "ABX9TyNNzWx8v8AJNx/K7E0jQeY0",
      "include_colab_link": true
    },
    "kernelspec": {
      "name": "python3",
      "display_name": "Python 3"
    },
    "language_info": {
      "name": "python"
    }
  },
  "cells": [
    {
      "cell_type": "markdown",
      "metadata": {
        "id": "view-in-github",
        "colab_type": "text"
      },
      "source": [
        "<a href=\"https://colab.research.google.com/github/janesh-kiddev/janesh-kiddev/blob/main/numpy.ipynb\" target=\"_parent\"><img src=\"https://colab.research.google.com/assets/colab-badge.svg\" alt=\"Open In Colab\"/></a>"
      ]
    },
    {
      "cell_type": "code",
      "execution_count": null,
      "metadata": {
        "id": "SUDoTJ7Y-6f-"
      },
      "outputs": [],
      "source": [
        "import numpy as np\n"
      ]
    },
    {
      "cell_type": "code",
      "source": [
        "ar = np.array([23,3,3,3,3,3])\n",
        "print(ar)\n",
        "dr = np.array(45)\n",
        "print(dr)"
      ],
      "metadata": {
        "colab": {
          "base_uri": "https://localhost:8080/"
        },
        "id": "4wT8p2fC_ZRf",
        "outputId": "d4f86a4d-34a5-4ef5-ed52-dc5e8622724a"
      },
      "execution_count": null,
      "outputs": [
        {
          "output_type": "stream",
          "name": "stdout",
          "text": [
            "[23  3  3  3  3  3]\n",
            "45\n"
          ]
        }
      ]
    },
    {
      "cell_type": "code",
      "source": [
        "darry = np.array([[1,2,3],[4,5,6]])\n",
        "print(darry)\n",
        "# displays the dimension\n",
        "print(darry.ndim)"
      ],
      "metadata": {
        "colab": {
          "base_uri": "https://localhost:8080/"
        },
        "id": "uPqLOWIa_qIg",
        "outputId": "384de7c8-7068-495f-999a-64e48d244d96"
      },
      "execution_count": null,
      "outputs": [
        {
          "output_type": "stream",
          "name": "stdout",
          "text": [
            "[[1 2 3]\n",
            " [4 5 6]]\n",
            "2\n"
          ]
        }
      ]
    },
    {
      "cell_type": "code",
      "source": [
        "arr = np.array([1, 2, 3, 4], ndmin=5)\n",
        "print(arr)\n",
        "print('number of dimensions :', arr.ndim)\n",
        "k = np.array([1,2,2])\n",
        "#indexing\n",
        "print(k[0])"
      ],
      "metadata": {
        "colab": {
          "base_uri": "https://localhost:8080/"
        },
        "id": "yu7ay-djBTbH",
        "outputId": "44aae096-c548-4e89-dcb6-461307268223"
      },
      "execution_count": null,
      "outputs": [
        {
          "output_type": "stream",
          "name": "stdout",
          "text": [
            "[[[[[1 2 3 4]]]]]\n",
            "number of dimensions : 5\n",
            "1\n"
          ]
        }
      ]
    },
    {
      "cell_type": "code",
      "source": [
        "catch = np.array([[1, 2, 3, 4],[6, 7, 8, 9]])\n",
        "#silcing\n",
        "print(catch[1,1])\n"
      ],
      "metadata": {
        "colab": {
          "base_uri": "https://localhost:8080/"
        },
        "id": "3FIsuS0MCT0x",
        "outputId": "d3fc4ee7-81c0-45b4-8c29-8e335408eea9"
      },
      "execution_count": null,
      "outputs": [
        {
          "output_type": "stream",
          "name": "stdout",
          "text": [
            "7\n"
          ]
        }
      ]
    },
    {
      "cell_type": "code",
      "source": [
        "#access the values from start to endpoint\n",
        "np.arange(50,60,1)"
      ],
      "metadata": {
        "colab": {
          "base_uri": "https://localhost:8080/"
        },
        "id": "pJl_xuQdDeAm",
        "outputId": "8d827138-feaa-4ea4-b7e3-2bf93ccbd939"
      },
      "execution_count": null,
      "outputs": [
        {
          "output_type": "execute_result",
          "data": {
            "text/plain": [
              "array([50, 51, 52, 53, 54, 55, 56, 57, 58, 59])"
            ]
          },
          "metadata": {},
          "execution_count": 8
        }
      ]
    },
    {
      "cell_type": "code",
      "source": [
        "#to get the random numbers in float\n",
        "np.random.uniform(5,10,size=4)"
      ],
      "metadata": {
        "colab": {
          "base_uri": "https://localhost:8080/"
        },
        "id": "ASf1jejDEckk",
        "outputId": "33fe80f6-6bd3-4594-92e4-98c382c30dba"
      },
      "execution_count": null,
      "outputs": [
        {
          "output_type": "execute_result",
          "data": {
            "text/plain": [
              "array([5.67402745, 5.68184747, 8.62094197, 7.64760531])"
            ]
          },
          "metadata": {},
          "execution_count": 9
        }
      ]
    },
    {
      "cell_type": "code",
      "source": [
        "np.random.uniform(50,60,size = 6)\n"
      ],
      "metadata": {
        "colab": {
          "base_uri": "https://localhost:8080/"
        },
        "id": "klae5VjOFJAa",
        "outputId": "3f7bf765-5fae-4f30-c216-96dbc9058dcf"
      },
      "execution_count": null,
      "outputs": [
        {
          "output_type": "execute_result",
          "data": {
            "text/plain": [
              "array([58.40544912, 59.60193908, 50.86753032, 50.0229582 , 53.32465565,\n",
              "       59.72250703])"
            ]
          },
          "metadata": {},
          "execution_count": 10
        }
      ]
    },
    {
      "cell_type": "code",
      "source": [
        "# generate random numbers in float\n",
        "np.random.rand(1,2)"
      ],
      "metadata": {
        "colab": {
          "base_uri": "https://localhost:8080/"
        },
        "id": "7WmePdYzFpqa",
        "outputId": "9b6efbfa-7471-4f12-c9d5-4596803a5c9a"
      },
      "execution_count": null,
      "outputs": [
        {
          "output_type": "execute_result",
          "data": {
            "text/plain": [
              "array([[0.54120808, 0.15708963]])"
            ]
          },
          "metadata": {},
          "execution_count": 11
        }
      ]
    },
    {
      "cell_type": "code",
      "source": [
        "np.random.random_integers(1,10)"
      ],
      "metadata": {
        "colab": {
          "base_uri": "https://localhost:8080/"
        },
        "id": "DA8yNUvZGLUq",
        "outputId": "1bfbe5e4-f314-4fbf-d67c-bbddd3aaf951"
      },
      "execution_count": null,
      "outputs": [
        {
          "output_type": "stream",
          "name": "stderr",
          "text": [
            "<ipython-input-12-c8e21f3575da>:1: DeprecationWarning: This function is deprecated. Please call randint(1, 10 + 1) instead\n",
            "  np.random.random_integers(1,10)\n"
          ]
        },
        {
          "output_type": "execute_result",
          "data": {
            "text/plain": [
              "2"
            ]
          },
          "metadata": {},
          "execution_count": 12
        }
      ]
    },
    {
      "cell_type": "code",
      "source": [
        "print(\"data type\", arr.dtype)\n",
        "print(\"matrix shape\", arr.shape)\n",
        "print(\"dimension\", arr.ndim)\n",
        "print(\"size\", arr.size)\n",
        "print(\"item size in Bytes\", arr.itemsize)\n",
        "print(\"array size in Bytes\", arr.nbytes)"
      ],
      "metadata": {
        "id": "WKSXBKwbGd3p",
        "colab": {
          "base_uri": "https://localhost:8080/"
        },
        "outputId": "82a7a3ef-35bc-45ab-e8fa-6bf5874d6273"
      },
      "execution_count": null,
      "outputs": [
        {
          "output_type": "stream",
          "name": "stdout",
          "text": [
            "data type int64\n",
            "matrix shape (1, 1, 1, 1, 4)\n",
            "dimension 5\n",
            "size 4\n",
            "item size in Bytes 8\n",
            "array size in Bytes 32\n"
          ]
        }
      ]
    },
    {
      "cell_type": "code",
      "source": [
        "dr = np.array([[1,2,3,4,5],[6,7,8,9,10]])\n",
        "print(dr)"
      ],
      "metadata": {
        "colab": {
          "base_uri": "https://localhost:8080/"
        },
        "id": "Yh6nPFG8wM2Y",
        "outputId": "0bf4ad51-cdad-45ab-b418-161ecf335d4f"
      },
      "execution_count": 16,
      "outputs": [
        {
          "output_type": "stream",
          "name": "stdout",
          "text": [
            "[[ 1  2  3  4  5]\n",
            " [ 6  7  8  9 10]]\n"
          ]
        }
      ]
    }
  ]
}